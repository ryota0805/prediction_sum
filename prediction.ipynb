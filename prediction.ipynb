{
 "cells": [
  {
   "cell_type": "code",
   "execution_count": 1,
   "metadata": {},
   "outputs": [
    {
     "name": "stdout",
     "output_type": "stream",
     "text": [
      "NVIDIA RTX A2000 8GB Laptop GPU\n",
      "2.0.0+cu118 True\n",
      "cuda:0\n"
     ]
    }
   ],
   "source": [
    "import torch\n",
    "import torch.nn as nn\n",
    "from torch.utils.data import Dataset, DataLoader, random_split\n",
    "\n",
    "print(torch.cuda.get_device_name())\n",
    "print(torch.__version__, torch.cuda.is_available())\n",
    "device = torch.device('cuda:0' if torch.cuda.is_available() else 'cpu')\n",
    "print(device)"
   ]
  },
  {
   "cell_type": "code",
   "execution_count": 69,
   "metadata": {},
   "outputs": [],
   "source": [
    "import numpy as np\n",
    "import random\n",
    "import matplotlib.pyplot as plt"
   ]
  },
  {
   "cell_type": "code",
   "execution_count": 108,
   "metadata": {},
   "outputs": [],
   "source": [
    "#make dataset \n",
    "#input : sequence made from 1 or 2\n",
    "#output : sum of sequence\n",
    "num_data = 10000\n",
    "max_sequence_length = 100\n",
    "min_sequence_length = 50\n",
    "#make inputdata randomly\n",
    "input_list = []\n",
    "output_list = []\n",
    "\n",
    "for i in range(num_data):\n",
    "    sequence_length = random.randint(min_sequence_length, max_sequence_length)\n",
    "    threshold = random.random()\n",
    "    input = []\n",
    "    sum_input = 0\n",
    "    for j in range(sequence_length):\n",
    "        random_number = random.random()\n",
    "        if random_number <= threshold:\n",
    "            input.append([1])\n",
    "            sum_input = sum_input + 1\n",
    "        else:\n",
    "            input.append([2])\n",
    "            sum_input = sum_input + 2\n",
    "    for k in range(max_sequence_length - sequence_length):\n",
    "        input.append([0])\n",
    "        \n",
    "    input_list.append(input)\n",
    "    output_list.append([sum_input])\n"
   ]
  },
  {
   "cell_type": "code",
   "execution_count": 109,
   "metadata": {},
   "outputs": [
    {
     "data": {
      "text/plain": [
       "[59]"
      ]
     },
     "execution_count": 109,
     "metadata": {},
     "output_type": "execute_result"
    }
   ],
   "source": [
    "output_list[2]"
   ]
  },
  {
   "cell_type": "code",
   "execution_count": 110,
   "metadata": {},
   "outputs": [],
   "source": [
    "class MyDataset(Dataset):\n",
    "    def __init__(self, input_data, output_data):\n",
    "        super(MyDataset, self).__init__()\n",
    "        self.input_data = input_data\n",
    "        self.output_data = output_data\n",
    "\n",
    "    def __getitem__(self, index):\n",
    "        input = torch.tensor(self.input_data[index], dtype=torch.float32)\n",
    "        output = torch.tensor(self.output_data[index], dtype=torch.float32)\n",
    "        return input, output\n",
    "\n",
    "    def __len__(self):\n",
    "        return len(self.input_data)"
   ]
  },
  {
   "cell_type": "code",
   "execution_count": 111,
   "metadata": {},
   "outputs": [],
   "source": [
    "train_valid_data = MyDataset(input_list, output_list)\n",
    "\n",
    "val_size = int(0.2 * len(train_valid_data))\n",
    "train_data, val_data = torch.utils.data.random_split(train_valid_data, [len(train_valid_data)-val_size, val_size])"
   ]
  },
  {
   "cell_type": "code",
   "execution_count": 112,
   "metadata": {},
   "outputs": [],
   "source": [
    "batch_size = 64\n",
    "\n",
    "dataloader_train = torch.utils.data.DataLoader(\n",
    "    train_data,\n",
    "    batch_size=batch_size,\n",
    "    shuffle=True\n",
    ")\n",
    "\n",
    "dataloader_valid = torch.utils.data.DataLoader(\n",
    "    val_data,\n",
    "    batch_size=batch_size,\n",
    "    shuffle=True\n",
    ")"
   ]
  },
  {
   "cell_type": "code",
   "execution_count": 113,
   "metadata": {},
   "outputs": [],
   "source": [
    "class LSTM(nn.Module):\n",
    "    def __init__(self, input_size, hidden_size, output_size, num_layers):\n",
    "        super(LSTM, self).__init__()\n",
    "        self.hidden_size = hidden_size\n",
    "        self.num_layers = num_layers\n",
    "        self.lstm = nn.LSTM(input_size, hidden_size, num_layers=self.num_layers, batch_first=True)\n",
    "        self.fc = nn.Linear(hidden_size, output_size)\n",
    "\n",
    "    def forward(self, x):    \n",
    "        h0 = torch.zeros(self.num_layers, x.size(0), self.hidden_size).to(x.device)\n",
    "        c0 = torch.zeros(self.num_layers, x.size(0), self.hidden_size).to(x.device)\n",
    "        \n",
    "        output, _ = self.lstm(x, (h0, c0))\n",
    "        output = self.fc(output[:,-1,:])\n",
    "        \n",
    "        return output"
   ]
  },
  {
   "cell_type": "code",
   "execution_count": 163,
   "metadata": {},
   "outputs": [],
   "source": [
    "# ハイパーパラメータの設定\n",
    "input_size = 1\n",
    "hidden_size = 128\n",
    "output_size = 1\n",
    "num_layers = 1\n",
    "learning_rate = 0.001\n",
    "num_epochs = 100\n",
    "\n",
    "# モデルの定義\n",
    "model = LSTM(input_size, hidden_size, output_size, num_layers).to(device)"
   ]
  },
  {
   "cell_type": "code",
   "execution_count": 164,
   "metadata": {},
   "outputs": [
    {
     "name": "stdout",
     "output_type": "stream",
     "text": [
      "torch.Size([64, 1])\n"
     ]
    }
   ],
   "source": [
    "# dataの取り出し\n",
    "Iter = dataloader_train.__iter__()\n",
    "input_data, output_data = next(Iter)\n",
    "\n",
    "print(output_data.size())"
   ]
  },
  {
   "cell_type": "code",
   "execution_count": 165,
   "metadata": {},
   "outputs": [
    {
     "name": "stdout",
     "output_type": "stream",
     "text": [
      "torch.Size([64, 1])\n"
     ]
    }
   ],
   "source": [
    "input_test_data = torch.randn(batch_size, 20, input_size)\n",
    "input_test_data = input_test_data.to(device)\n",
    "output = model(input_test_data)\n",
    "print(output.size())"
   ]
  },
  {
   "cell_type": "code",
   "execution_count": 166,
   "metadata": {},
   "outputs": [
    {
     "name": "stdout",
     "output_type": "stream",
     "text": [
      "Epoch [1/100], Loss: 175.3422, val_loss: 146.1957\n",
      "Epoch [2/100], Loss: 123.9565, val_loss: 105.5004\n",
      "Epoch [3/100], Loss: 90.2186, val_loss: 75.7877\n",
      "Epoch [4/100], Loss: 65.7228, val_loss: 55.4817\n",
      "Epoch [5/100], Loss: 48.1735, val_loss: 40.4818\n",
      "Epoch [6/100], Loss: 35.9728, val_loss: 30.7398\n",
      "Epoch [7/100], Loss: 27.8037, val_loss: 24.3789\n",
      "Epoch [8/100], Loss: 22.5773, val_loss: 20.0718\n",
      "Epoch [9/100], Loss: 19.4015, val_loss: 17.7411\n",
      "Epoch [10/100], Loss: 17.5643, val_loss: 16.7691\n",
      "Epoch [11/100], Loss: 16.5646, val_loss: 15.9079\n",
      "Epoch [12/100], Loss: 16.0520, val_loss: 15.5412\n",
      "Epoch [13/100], Loss: 15.8122, val_loss: 15.4262\n",
      "Epoch [14/100], Loss: 15.7039, val_loss: 15.3438\n",
      "Epoch [15/100], Loss: 15.6599, val_loss: 15.7068\n",
      "Epoch [16/100], Loss: 15.6433, val_loss: 15.4541\n",
      "Epoch [17/100], Loss: 15.6367, val_loss: 15.2665\n",
      "Epoch [18/100], Loss: 15.6354, val_loss: 15.3157\n",
      "Epoch [19/100], Loss: 15.6347, val_loss: 15.4816\n",
      "Epoch [20/100], Loss: 15.6356, val_loss: 15.2185\n",
      "Epoch [21/100], Loss: 15.6345, val_loss: 15.5687\n",
      "Epoch [22/100], Loss: 15.6354, val_loss: 15.3264\n",
      "Epoch [23/100], Loss: 15.6356, val_loss: 15.4575\n",
      "Epoch [24/100], Loss: 15.6349, val_loss: 15.5643\n",
      "Epoch [25/100], Loss: 15.6359, val_loss: 15.7013\n",
      "Epoch [26/100], Loss: 15.6350, val_loss: 15.3508\n",
      "Epoch [27/100], Loss: 15.6361, val_loss: 15.3215\n",
      "Epoch [28/100], Loss: 15.6342, val_loss: 15.2810\n",
      "Epoch [29/100], Loss: 15.6357, val_loss: 15.5434\n",
      "Epoch [30/100], Loss: 15.6329, val_loss: 15.3427\n",
      "Epoch [31/100], Loss: 15.6279, val_loss: 15.1917\n",
      "Epoch [32/100], Loss: 15.5747, val_loss: 15.2480\n",
      "Epoch [33/100], Loss: 15.6400, val_loss: 15.4907\n",
      "Epoch [34/100], Loss: 15.6383, val_loss: 15.2311\n",
      "Epoch [35/100], Loss: 15.6371, val_loss: 15.1405\n",
      "Epoch [36/100], Loss: 15.6367, val_loss: 15.3441\n",
      "Epoch [37/100], Loss: 15.6362, val_loss: 15.4449\n",
      "Epoch [38/100], Loss: 15.6345, val_loss: 15.5439\n",
      "Epoch [39/100], Loss: 15.6371, val_loss: 15.4609\n",
      "Epoch [40/100], Loss: 15.6358, val_loss: 15.3990\n",
      "Epoch [41/100], Loss: 15.6373, val_loss: 15.4972\n",
      "Epoch [42/100], Loss: 15.6360, val_loss: 15.3495\n",
      "Epoch [43/100], Loss: 15.6431, val_loss: 15.4068\n",
      "Epoch [44/100], Loss: 15.6385, val_loss: 15.4044\n",
      "Epoch [45/100], Loss: 15.6361, val_loss: 15.1420\n",
      "Epoch [46/100], Loss: 15.6372, val_loss: 15.4303\n",
      "Epoch [47/100], Loss: 15.6388, val_loss: 15.5768\n",
      "Epoch [48/100], Loss: 15.6356, val_loss: 15.3724\n",
      "Epoch [49/100], Loss: 15.6385, val_loss: 15.4736\n",
      "Epoch [50/100], Loss: 15.6345, val_loss: 15.2222\n",
      "Epoch [51/100], Loss: 15.6480, val_loss: 15.3672\n",
      "Epoch [52/100], Loss: 15.6382, val_loss: 15.1247\n",
      "Epoch [53/100], Loss: 15.6346, val_loss: 15.4623\n",
      "Epoch [54/100], Loss: 15.8091, val_loss: 15.2073\n",
      "Epoch [55/100], Loss: 15.3812, val_loss: 15.5213\n",
      "Epoch [56/100], Loss: 15.3067, val_loss: 14.9026\n",
      "Epoch [57/100], Loss: 14.6083, val_loss: 12.1034\n",
      "Epoch [58/100], Loss: 6.5538, val_loss: 3.0732\n",
      "Epoch [59/100], Loss: 2.1227, val_loss: 1.2715\n",
      "Epoch [60/100], Loss: 1.0336, val_loss: 0.7330\n",
      "Epoch [61/100], Loss: 0.6481, val_loss: 0.4650\n",
      "Epoch [62/100], Loss: 0.4106, val_loss: 0.3328\n",
      "Epoch [63/100], Loss: 0.3407, val_loss: 0.2653\n",
      "Epoch [64/100], Loss: 0.2323, val_loss: 0.1781\n",
      "Epoch [65/100], Loss: 0.1712, val_loss: 0.1346\n",
      "Epoch [66/100], Loss: 0.1460, val_loss: 0.1265\n",
      "Epoch [67/100], Loss: 0.1078, val_loss: 0.1601\n",
      "Epoch [68/100], Loss: 0.0954, val_loss: 0.0892\n",
      "Epoch [69/100], Loss: 0.1026, val_loss: 0.0637\n",
      "Epoch [70/100], Loss: 0.0612, val_loss: 0.0735\n",
      "Epoch [71/100], Loss: 0.0544, val_loss: 0.0629\n",
      "Epoch [72/100], Loss: 0.0471, val_loss: 0.0403\n",
      "Epoch [73/100], Loss: 0.0441, val_loss: 0.0359\n",
      "Epoch [74/100], Loss: 0.0320, val_loss: 0.0614\n",
      "Epoch [75/100], Loss: 0.0356, val_loss: 0.0414\n",
      "Epoch [76/100], Loss: 0.0288, val_loss: 0.0324\n",
      "Epoch [77/100], Loss: 0.0316, val_loss: 0.0187\n",
      "Epoch [78/100], Loss: 0.0248, val_loss: 0.0178\n",
      "Epoch [79/100], Loss: 0.0345, val_loss: 0.1256\n",
      "Epoch [80/100], Loss: 0.0288, val_loss: 0.0143\n",
      "Epoch [81/100], Loss: 0.0227, val_loss: 0.0285\n",
      "Epoch [82/100], Loss: 0.0268, val_loss: 0.0351\n",
      "Epoch [83/100], Loss: 0.0205, val_loss: 0.0192\n",
      "Epoch [84/100], Loss: 0.0161, val_loss: 0.0097\n",
      "Epoch [85/100], Loss: 0.0132, val_loss: 0.0456\n",
      "Epoch [86/100], Loss: 0.0175, val_loss: 0.0097\n",
      "Epoch [87/100], Loss: 0.0177, val_loss: 0.0155\n",
      "Epoch [88/100], Loss: 0.0277, val_loss: 0.0273\n",
      "Epoch [89/100], Loss: 0.0155, val_loss: 0.0071\n",
      "Epoch [90/100], Loss: 0.0111, val_loss: 0.0177\n",
      "Epoch [91/100], Loss: 0.0104, val_loss: 0.0096\n",
      "Epoch [92/100], Loss: 0.0093, val_loss: 0.0078\n",
      "Epoch [93/100], Loss: 0.0152, val_loss: 0.0647\n",
      "Epoch [94/100], Loss: 0.0088, val_loss: 0.0072\n",
      "Epoch [95/100], Loss: 0.0191, val_loss: 0.0105\n",
      "Epoch [96/100], Loss: 0.0145, val_loss: 0.0083\n",
      "Epoch [97/100], Loss: 0.0095, val_loss: 0.0043\n",
      "Epoch [98/100], Loss: 0.0098, val_loss: 0.0156\n",
      "Epoch [99/100], Loss: 0.0134, val_loss: 0.0066\n",
      "Epoch [100/100], Loss: 0.0117, val_loss: 0.0047\n"
     ]
    }
   ],
   "source": [
    "# 損失関数の定義\n",
    "criterion = nn.MSELoss()\n",
    "\n",
    "# オプティマイザの定義\n",
    "optimizer = torch.optim.Adam(model.parameters(), lr=learning_rate)\n",
    "\n",
    "#トレーニングの開始\n",
    "train_loss_list, val_loss_list = [], []\n",
    "\n",
    "for epoch in range(num_epochs):\n",
    "    train_loss, val_loss = 0, 0\n",
    "    \n",
    "    #train_mode\n",
    "    model.train()\n",
    "    for i, (input_data, output_data) in enumerate(dataloader_train):\n",
    "        # データをGPUに転送\n",
    "        input_data, output_data = input_data.to(device), output_data.to(device)\n",
    "        \n",
    "        # モデルの出力を計算\n",
    "        output = model(input_data)\n",
    "        \n",
    "        # 損失関数の適用\n",
    "        loss = criterion(output, output_data)\n",
    "        \n",
    "        #train_lossに結果を蓄積\n",
    "        train_loss += loss.item()\n",
    "        \n",
    "        # 勾配を初期化して逆伝播\n",
    "        optimizer.zero_grad()\n",
    "        loss.backward()\n",
    "        optimizer.step()\n",
    "        \n",
    "        # lossの平均を計算\n",
    "        avg_train_loss = train_loss / len(dataloader_train.dataset)  \n",
    "        \n",
    "    #valid_mode\n",
    "    model.eval()\n",
    "    with torch.no_grad():\n",
    "        for input_data, output_data in dataloader_valid:\n",
    "            # データをGPUに転送\n",
    "            input_data, output_data = input_data.to(device), output_data.to(device)\n",
    "            \n",
    "            # モデルの出力を計算\n",
    "            output = model(input_data)\n",
    "            \n",
    "            # 損失関数の適用\n",
    "            loss = criterion(output, output_data)\n",
    "        \n",
    "            #val_lossに結果を蓄積\n",
    "            val_loss += loss.item()\n",
    "    \n",
    "    # lossの平均を計算      \n",
    "    avg_val_loss = val_loss / len(dataloader_valid.dataset)\n",
    "    \n",
    "    # print log\n",
    "    print ('Epoch [{}/{}], Loss: {loss:.4f}, val_loss: {val_loss:.4f}'.format(epoch+1, num_epochs, i+1, loss=avg_train_loss, val_loss=avg_val_loss))\n",
    "    \n",
    "    # append list for polt graph after training\n",
    "    train_loss_list.append(avg_train_loss)\n",
    "    val_loss_list.append(avg_val_loss)"
   ]
  },
  {
   "cell_type": "code",
   "execution_count": 167,
   "metadata": {},
   "outputs": [
    {
     "data": {
      "image/png": "[encoded data removed]",
      "text/plain": [
       "<Figure size 640x480 with 1 Axes>"
      ]
     },
     "metadata": {},
     "output_type": "display_data"
    }
   ],
   "source": [
    "plt.figure()\n",
    "plt.plot(range(num_epochs), train_loss_list, color='blue', linestyle='-', label='train_loss')\n",
    "plt.plot(range(num_epochs), val_loss_list, color='green', linestyle='--', label='val_loss')\n",
    "plt.legend()\n",
    "plt.xlabel('epoch')\n",
    "plt.ylabel('loss')\n",
    "plt.title('Training and validation loss')\n",
    "plt.grid()"
   ]
  },
  {
   "cell_type": "code",
   "execution_count": 168,
   "metadata": {},
   "outputs": [],
   "source": [
    "class TestDataset(Dataset):\n",
    "    def __init__(self, test_data):\n",
    "        self.test_data = test_data\n",
    "\n",
    "    def __len__(self):\n",
    "        return len(self.test_data)\n",
    "\n",
    "    def __getitem__(self, index):\n",
    "        input = torch.tensor(self.test_data[index], dtype=torch.float32)\n",
    "        output = 0\n",
    "        return input, output"
   ]
  },
  {
   "cell_type": "code",
   "execution_count": 179,
   "metadata": {},
   "outputs": [
    {
     "name": "stdout",
     "output_type": "stream",
     "text": [
      "[[[1], [2], [2], [2], [2], [2], [2], [2], [2], [2], [2], [2], [2], [2], [2], [2], [2], [2], [2], [2], [2], [2], [2], [2], [2], [2], [2], [1], [1], [2], [2], [2], [2], [2], [2], [2], [1], [2], [2], [2], [2], [2], [2], [2], [2], [2], [2], [2], [2], [1], [2], [0], [0], [0], [0], [0], [0], [0], [0], [0], [0], [0], [0], [0], [0], [0], [0], [0], [0], [0], [0], [0], [0], [0], [0], [0], [0], [0], [0], [0], [0], [0], [0], [0], [0], [0], [0], [0], [0], [0], [0], [0], [0], [0], [0], [0], [0], [0], [0], [0]]]\n",
      "[[97]]\n",
      "tensor([[96.8555]], device='cuda:0')\n"
     ]
    }
   ],
   "source": [
    "#make testdata randomly\n",
    "test_input_data = []\n",
    "test_output_data = []\n",
    "\n",
    "for i in range(1):\n",
    "    sequence_length = random.randint(min_sequence_length, max_sequence_length)\n",
    "    threshold = random.random()\n",
    "    input = []\n",
    "    sum_input = 0\n",
    "    for j in range(sequence_length):\n",
    "        random_number = random.random()\n",
    "        if random_number <= threshold:\n",
    "            input.append([1])\n",
    "            sum_input = sum_input + 1\n",
    "        else:\n",
    "            input.append([2])\n",
    "            sum_input = sum_input + 2\n",
    "    for k in range(max_sequence_length - sequence_length):\n",
    "        input.append([0])\n",
    "        \n",
    "    test_input_data.append(input)\n",
    "    test_output_data.append([sum_input])\n",
    "\n",
    "\n",
    "print(test_input_data)\n",
    "print(test_output_data)\n",
    "\n",
    "\n",
    "test_data = TestDataset(test_input_data)\n",
    "test_loader = torch.utils.data.DataLoader(test_data, batch_size=1, shuffle=False)\n",
    "\n",
    "#予測モード\n",
    "model.eval()\n",
    "with torch.no_grad():\n",
    "    input_data, _ = next(iter(test_loader))\n",
    "    input_data = input_data.to(device)\n",
    "    output = model(input_data)\n",
    "\n",
    "print(output)"
   ]
  },
  {
   "cell_type": "code",
   "execution_count": null,
   "metadata": {},
   "outputs": [],
   "source": []
  }
 ],
 "metadata": {
  "kernelspec": {
   "display_name": "Python 3",
   "language": "python",
   "name": "python3"
  },
  "language_info": {
   "codemirror_mode": {
    "name": "ipython",
    "version": 3
   },
   "file_extension": ".py",
   "mimetype": "text/x-python",
   "name": "python",
   "nbconvert_exporter": "python",
   "pygments_lexer": "ipython3",
   "version": "3.10.6"
  },
  "orig_nbformat": 4
 },
 "nbformat": 4,
 "nbformat_minor": 2
}
